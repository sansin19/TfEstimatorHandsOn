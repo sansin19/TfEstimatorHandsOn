{
  "nbformat": 4,
  "nbformat_minor": 0,
  "metadata": {
    "colab": {
      "name": "TF_Assgnment6Q4-10.ipynb",
      "provenance": [],
      "collapsed_sections": [],
      "include_colab_link": true
    },
    "kernelspec": {
      "name": "python3",
      "display_name": "Python 3"
    }
  },
  "cells": [
    {
      "cell_type": "markdown",
      "metadata": {
        "id": "view-in-github",
        "colab_type": "text"
      },
      "source": [
        "<a href=\"https://colab.research.google.com/github/sansin19/TfEstimatorHandsOn/blob/master/TF_Assgnment6Q4_10.ipynb\" target=\"_parent\"><img src=\"https://colab.research.google.com/assets/colab-badge.svg\" alt=\"Open In Colab\"/></a>"
      ]
    },
    {
      "cell_type": "code",
      "metadata": {
        "id": "nlPgX8wdtJjN",
        "colab_type": "code",
        "outputId": "f9a3f5b0-57a3-4f94-b47e-934dfcb27903",
        "colab": {
          "base_uri": "https://localhost:8080/",
          "height": 605
        }
      },
      "source": [
        "!pip install tensorflow==2.0.0-rc0\n",
        "\n",
        "from sklearn.model_selection import train_test_split\n",
        "from sklearn.datasets import load_boston\n",
        "import tensorflow as tf\n",
        "import pandas as pd\n",
        "import numpy as np\n",
        "\n",
        "import matplotlib.pyplot as plt\n",
        "import seaborn as sns\n",
        "sns_colors = sns.color_palette('colorblind')\n",
        "\n",
        "tf.random.set_seed(1)"
      ],
      "execution_count": 1,
      "outputs": [
        {
          "output_type": "stream",
          "text": [
            "Collecting tensorflow==2.0.0-rc0\n",
            "\u001b[?25l  Downloading https://files.pythonhosted.org/packages/fb/4b/77f0965ec7e8a76d3dcd6a22ca8bbd2b934cd92c4ded43fef6bea5ff3258/tensorflow-2.0.0rc0-cp36-cp36m-manylinux2010_x86_64.whl (86.3MB)\n",
            "\u001b[K     |████████████████████████████████| 86.3MB 1.2MB/s \n",
            "\u001b[?25hRequirement already satisfied: grpcio>=1.8.6 in /usr/local/lib/python3.6/dist-packages (from tensorflow==2.0.0-rc0) (1.15.0)\n",
            "Requirement already satisfied: astor>=0.6.0 in /usr/local/lib/python3.6/dist-packages (from tensorflow==2.0.0-rc0) (0.8.0)\n",
            "Requirement already satisfied: numpy<2.0,>=1.16.0 in /usr/local/lib/python3.6/dist-packages (from tensorflow==2.0.0-rc0) (1.16.5)\n",
            "Collecting tb-nightly<1.15.0a20190807,>=1.15.0a20190806 (from tensorflow==2.0.0-rc0)\n",
            "\u001b[?25l  Downloading https://files.pythonhosted.org/packages/bc/88/24b5fb7280e74c7cf65bde47c171547fd02afb3840cff41bcbe9270650f5/tb_nightly-1.15.0a20190806-py3-none-any.whl (4.3MB)\n",
            "\u001b[K     |████████████████████████████████| 4.3MB 40.9MB/s \n",
            "\u001b[?25hRequirement already satisfied: absl-py>=0.7.0 in /usr/local/lib/python3.6/dist-packages (from tensorflow==2.0.0-rc0) (0.8.0)\n",
            "Requirement already satisfied: gast>=0.2.0 in /usr/local/lib/python3.6/dist-packages (from tensorflow==2.0.0-rc0) (0.3.2)\n",
            "Requirement already satisfied: wheel>=0.26 in /usr/local/lib/python3.6/dist-packages (from tensorflow==2.0.0-rc0) (0.33.6)\n",
            "Requirement already satisfied: protobuf>=3.6.1 in /usr/local/lib/python3.6/dist-packages (from tensorflow==2.0.0-rc0) (3.7.1)\n",
            "Collecting tf-estimator-nightly<1.14.0.dev2019080602,>=1.14.0.dev2019080601 (from tensorflow==2.0.0-rc0)\n",
            "\u001b[?25l  Downloading https://files.pythonhosted.org/packages/21/28/f2a27a62943d5f041e4a6fd404b2d21cb7c59b2242a4e73b03d9ba166552/tf_estimator_nightly-1.14.0.dev2019080601-py2.py3-none-any.whl (501kB)\n",
            "\u001b[K     |████████████████████████████████| 501kB 44.8MB/s \n",
            "\u001b[?25hRequirement already satisfied: six>=1.10.0 in /usr/local/lib/python3.6/dist-packages (from tensorflow==2.0.0-rc0) (1.12.0)\n",
            "Requirement already satisfied: google-pasta>=0.1.6 in /usr/local/lib/python3.6/dist-packages (from tensorflow==2.0.0-rc0) (0.1.7)\n",
            "Requirement already satisfied: termcolor>=1.1.0 in /usr/local/lib/python3.6/dist-packages (from tensorflow==2.0.0-rc0) (1.1.0)\n",
            "Requirement already satisfied: keras-preprocessing>=1.0.5 in /usr/local/lib/python3.6/dist-packages (from tensorflow==2.0.0-rc0) (1.1.0)\n",
            "Requirement already satisfied: keras-applications>=1.0.8 in /usr/local/lib/python3.6/dist-packages (from tensorflow==2.0.0-rc0) (1.0.8)\n",
            "Requirement already satisfied: wrapt>=1.11.1 in /usr/local/lib/python3.6/dist-packages (from tensorflow==2.0.0-rc0) (1.11.2)\n",
            "Requirement already satisfied: opt-einsum>=2.3.2 in /usr/local/lib/python3.6/dist-packages (from tensorflow==2.0.0-rc0) (3.0.1)\n",
            "Requirement already satisfied: markdown>=2.6.8 in /usr/local/lib/python3.6/dist-packages (from tb-nightly<1.15.0a20190807,>=1.15.0a20190806->tensorflow==2.0.0-rc0) (3.1.1)\n",
            "Requirement already satisfied: werkzeug>=0.11.15 in /usr/local/lib/python3.6/dist-packages (from tb-nightly<1.15.0a20190807,>=1.15.0a20190806->tensorflow==2.0.0-rc0) (0.16.0)\n",
            "Requirement already satisfied: setuptools>=41.0.0 in /usr/local/lib/python3.6/dist-packages (from tb-nightly<1.15.0a20190807,>=1.15.0a20190806->tensorflow==2.0.0-rc0) (41.2.0)\n",
            "Requirement already satisfied: h5py in /usr/local/lib/python3.6/dist-packages (from keras-applications>=1.0.8->tensorflow==2.0.0-rc0) (2.8.0)\n",
            "Installing collected packages: tb-nightly, tf-estimator-nightly, tensorflow\n",
            "  Found existing installation: tensorflow 1.14.0\n",
            "    Uninstalling tensorflow-1.14.0:\n",
            "      Successfully uninstalled tensorflow-1.14.0\n",
            "Successfully installed tb-nightly-1.15.0a20190806 tensorflow-2.0.0rc0 tf-estimator-nightly-1.14.0.dev2019080601\n"
          ],
          "name": "stdout"
        }
      ]
    },
    {
      "cell_type": "code",
      "metadata": {
        "id": "HqNBICeNtY3j",
        "colab_type": "code",
        "colab": {}
      },
      "source": [
        "boston_dataset = load_boston()\n",
        "\n",
        "data_X = pd.DataFrame(boston_dataset.data, columns=boston_dataset.feature_names)\n",
        "data_Y = pd.DataFrame(boston_dataset.target, columns=[\"target\"])\n",
        "data = pd.concat([data_X, data_Y], axis=1)"
      ],
      "execution_count": 0,
      "outputs": []
    },
    {
      "cell_type": "code",
      "metadata": {
        "id": "gDomm5XstrpJ",
        "colab_type": "code",
        "outputId": "17ded8b4-086f-4c64-d995-7e959f5f6e65",
        "colab": {
          "base_uri": "https://localhost:8080/",
          "height": 52
        }
      },
      "source": [
        "train, test = train_test_split(data, test_size=0.2, random_state=1)\n",
        "print(len(train), \"train examples\")\n",
        "print(len(test), \"test examples\")\n"
      ],
      "execution_count": 3,
      "outputs": [
        {
          "output_type": "stream",
          "text": [
            "404 train examples\n",
            "102 test examples\n"
          ],
          "name": "stdout"
        }
      ]
    },
    {
      "cell_type": "code",
      "metadata": {
        "id": "7j4QWCIXt0ov",
        "colab_type": "code",
        "colab": {}
      },
      "source": [
        "def df_to_dataset(dataframe, shuffle_and_repeat=True, batch_size=32):\n",
        "  dataframe = dataframe.copy()\n",
        "  labels = dataframe.pop('target')\n",
        "  ds = tf.data.Dataset.from_tensor_slices((dict(dataframe), labels))\n",
        "  if shuffle_and_repeat:\n",
        "    ds = ds.shuffle(buffer_size=len(dataframe))\n",
        "    ds = ds.repeat()\n",
        "    \n",
        "  ds = ds.batch(batch_size)\n",
        "  \n",
        "  return ds"
      ],
      "execution_count": 0,
      "outputs": []
    },
    {
      "cell_type": "code",
      "metadata": {
        "id": "EthjK8klt8Bd",
        "colab_type": "code",
        "colab": {}
      },
      "source": [
        "# define feature_columns as a list of all the features as numeric columns using functions from tf.feature_column\n",
        "feature_columns = []\n",
        "#data_X.keys()\n",
        "for key in data_X.keys():\n",
        "  feature_columns.append(tf.feature_column.numeric_column(key=key))"
      ],
      "execution_count": 0,
      "outputs": []
    },
    {
      "cell_type": "code",
      "metadata": {
        "id": "M7H-lNC61IxG",
        "colab_type": "code",
        "colab": {}
      },
      "source": [
        ""
      ],
      "execution_count": 0,
      "outputs": []
    },
    {
      "cell_type": "code",
      "metadata": {
        "id": "KWNmHwRuy1J0",
        "colab_type": "code",
        "outputId": "836e32d2-cd06-4e75-b9f7-c50f567734b2",
        "colab": {
          "base_uri": "https://localhost:8080/",
          "height": 1000
        }
      },
      "source": [
        "configs = tf.estimator.RunConfig(tf_random_seed=1)\n",
        "model = tf.estimator.LinearRegressor( feature_columns = feature_columns,config =configs)\n",
        "model.train(input_fn = lambda: df_to_dataset(train),steps=2500 )"
      ],
      "execution_count": 6,
      "outputs": [
        {
          "output_type": "stream",
          "text": [
            "WARNING:tensorflow:Using temporary folder as model directory: /tmp/tmpyd6ug86o\n",
            "INFO:tensorflow:Using config: {'_model_dir': '/tmp/tmpyd6ug86o', '_tf_random_seed': 1, '_save_summary_steps': 100, '_save_checkpoints_steps': None, '_save_checkpoints_secs': 600, '_session_config': allow_soft_placement: true\n",
            "graph_options {\n",
            "  rewrite_options {\n",
            "    meta_optimizer_iterations: ONE\n",
            "  }\n",
            "}\n",
            ", '_keep_checkpoint_max': 5, '_keep_checkpoint_every_n_hours': 10000, '_log_step_count_steps': 100, '_train_distribute': None, '_device_fn': None, '_protocol': None, '_eval_distribute': None, '_experimental_distribute': None, '_experimental_max_worker_delay_secs': None, '_service': None, '_cluster_spec': <tensorflow.python.training.server_lib.ClusterSpec object at 0x7f510ee6a400>, '_task_type': 'worker', '_task_id': 0, '_global_id_in_cluster': 0, '_master': '', '_evaluation_master': '', '_is_chief': True, '_num_ps_replicas': 0, '_num_worker_replicas': 1}\n",
            "WARNING:tensorflow:From /usr/local/lib/python3.6/dist-packages/tensorflow_core/python/ops/resource_variable_ops.py:1630: calling BaseResourceVariable.__init__ (from tensorflow.python.ops.resource_variable_ops) with constraint is deprecated and will be removed in a future version.\n",
            "Instructions for updating:\n",
            "If using Keras pass *_constraint arguments to layers.\n",
            "WARNING:tensorflow:From /usr/local/lib/python3.6/dist-packages/tensorflow_core/python/training/training_util.py:236: Variable.initialized_value (from tensorflow.python.ops.variables) is deprecated and will be removed in a future version.\n",
            "Instructions for updating:\n",
            "Use Variable.read_value. Variables in 2.X are initialized automatically both in eager and graph (inside tf.defun) contexts.\n",
            "WARNING:tensorflow:From /usr/local/lib/python3.6/dist-packages/tensorflow_core/python/data/util/random_seed.py:58: where (from tensorflow.python.ops.array_ops) is deprecated and will be removed in a future version.\n",
            "Instructions for updating:\n",
            "Use tf.where in 2.0, which has the same broadcast rule as np.where\n",
            "INFO:tensorflow:Calling model_fn.\n",
            "WARNING:tensorflow:Layer linear/linear_model is casting an input tensor from dtype float64 to the layer's dtype of float32, which is new behavior in TensorFlow 2.  The layer has dtype float32 because it's dtype defaults to floatx.\n",
            "\n",
            "If you intended to run this layer in float32, you can safely ignore this warning. If in doubt, this warning is likely only an issue if you are porting a TensorFlow 1.X model to TensorFlow 2.\n",
            "\n",
            "To change all layers to have dtype float64 by default, call `tf.keras.backend.set_floatx('float64')`. To change just this layer, pass dtype='float64' to the layer constructor. If you are the author of this layer, you can disable autocasting by passing autocast=False to the base Layer constructor.\n",
            "\n",
            "WARNING:tensorflow:From /usr/local/lib/python3.6/dist-packages/tensorflow_core/python/feature_column/feature_column_v2.py:308: Layer.add_variable (from tensorflow.python.keras.engine.base_layer) is deprecated and will be removed in a future version.\n",
            "Instructions for updating:\n",
            "Please use `layer.add_weight` method instead.\n",
            "WARNING:tensorflow:From /usr/local/lib/python3.6/dist-packages/tensorflow_estimator/python/estimator/canned/linear.py:308: to_float (from tensorflow.python.ops.math_ops) is deprecated and will be removed in a future version.\n",
            "Instructions for updating:\n",
            "Use `tf.cast` instead.\n",
            "WARNING:tensorflow:From /usr/local/lib/python3.6/dist-packages/tensorflow_core/python/keras/optimizer_v2/ftrl.py:143: calling Constant.__init__ (from tensorflow.python.ops.init_ops) with dtype is deprecated and will be removed in a future version.\n",
            "Instructions for updating:\n",
            "Call initializer instance with the dtype argument instead of passing it to the constructor\n",
            "WARNING:tensorflow:From /usr/local/lib/python3.6/dist-packages/tensorflow_estimator/python/estimator/model_fn.py:337: scalar (from tensorflow.python.framework.tensor_shape) is deprecated and will be removed in a future version.\n",
            "Instructions for updating:\n",
            "Use tf.TensorShape([]).\n",
            "INFO:tensorflow:Done calling model_fn.\n",
            "INFO:tensorflow:Create CheckpointSaverHook.\n",
            "INFO:tensorflow:Graph was finalized.\n",
            "INFO:tensorflow:Running local_init_op.\n",
            "INFO:tensorflow:Done running local_init_op.\n",
            "INFO:tensorflow:Saving checkpoints for 0 into /tmp/tmpyd6ug86o/model.ckpt.\n",
            "INFO:tensorflow:loss = 531.28845, step = 0\n",
            "INFO:tensorflow:global_step/sec: 394.806\n",
            "INFO:tensorflow:loss = 64.39292, step = 100 (0.255 sec)\n",
            "INFO:tensorflow:global_step/sec: 644.503\n",
            "INFO:tensorflow:loss = 46.643692, step = 200 (0.159 sec)\n",
            "WARNING:tensorflow:It seems that global step (tf.train.get_global_step) has not been increased. Current value (could be stable): 260 vs previous value: 260. You could increase the global step by passing tf.train.get_global_step() to Optimizer.apply_gradients or Optimizer.minimize.\n",
            "INFO:tensorflow:global_step/sec: 747.59\n",
            "INFO:tensorflow:loss = 34.613716, step = 300 (0.133 sec)\n",
            "INFO:tensorflow:global_step/sec: 682.484\n",
            "INFO:tensorflow:loss = 40.468857, step = 401 (0.143 sec)\n",
            "INFO:tensorflow:global_step/sec: 705.545\n",
            "INFO:tensorflow:loss = 30.288467, step = 500 (0.145 sec)\n",
            "INFO:tensorflow:global_step/sec: 691.065\n",
            "INFO:tensorflow:loss = 30.791395, step = 600 (0.144 sec)\n",
            "INFO:tensorflow:global_step/sec: 704.249\n",
            "INFO:tensorflow:loss = 37.243294, step = 700 (0.142 sec)\n",
            "WARNING:tensorflow:It seems that global step (tf.train.get_global_step) has not been increased. Current value (could be stable): 713 vs previous value: 713. You could increase the global step by passing tf.train.get_global_step() to Optimizer.apply_gradients or Optimizer.minimize.\n",
            "WARNING:tensorflow:It seems that global step (tf.train.get_global_step) has not been increased. Current value (could be stable): 762 vs previous value: 762. You could increase the global step by passing tf.train.get_global_step() to Optimizer.apply_gradients or Optimizer.minimize.\n",
            "INFO:tensorflow:global_step/sec: 633.483\n",
            "INFO:tensorflow:loss = 24.306799, step = 800 (0.155 sec)\n",
            "INFO:tensorflow:global_step/sec: 632.225\n",
            "INFO:tensorflow:loss = 89.09627, step = 900 (0.162 sec)\n",
            "INFO:tensorflow:global_step/sec: 694.268\n",
            "INFO:tensorflow:loss = 59.83052, step = 1000 (0.143 sec)\n",
            "INFO:tensorflow:global_step/sec: 777.434\n",
            "INFO:tensorflow:loss = 48.356674, step = 1100 (0.127 sec)\n",
            "INFO:tensorflow:global_step/sec: 649.29\n",
            "INFO:tensorflow:loss = 35.559883, step = 1200 (0.153 sec)\n",
            "INFO:tensorflow:global_step/sec: 730.929\n",
            "INFO:tensorflow:loss = 31.268944, step = 1300 (0.137 sec)\n",
            "INFO:tensorflow:global_step/sec: 700.208\n",
            "INFO:tensorflow:loss = 91.93313, step = 1400 (0.143 sec)\n",
            "INFO:tensorflow:global_step/sec: 671.172\n",
            "INFO:tensorflow:loss = 30.160435, step = 1500 (0.149 sec)\n",
            "INFO:tensorflow:global_step/sec: 683.831\n",
            "INFO:tensorflow:loss = 32.883034, step = 1600 (0.151 sec)\n",
            "INFO:tensorflow:global_step/sec: 609.264\n",
            "INFO:tensorflow:loss = 58.436836, step = 1700 (0.160 sec)\n",
            "INFO:tensorflow:global_step/sec: 756.931\n",
            "INFO:tensorflow:loss = 29.859324, step = 1800 (0.134 sec)\n",
            "INFO:tensorflow:global_step/sec: 696.188\n",
            "INFO:tensorflow:loss = 29.615658, step = 1900 (0.142 sec)\n",
            "INFO:tensorflow:global_step/sec: 655.662\n",
            "INFO:tensorflow:loss = 38.816814, step = 2000 (0.152 sec)\n",
            "INFO:tensorflow:global_step/sec: 686.595\n",
            "INFO:tensorflow:loss = 28.797222, step = 2100 (0.148 sec)\n",
            "INFO:tensorflow:global_step/sec: 694.434\n",
            "INFO:tensorflow:loss = 39.018715, step = 2200 (0.144 sec)\n",
            "INFO:tensorflow:global_step/sec: 734.325\n",
            "INFO:tensorflow:loss = 42.126625, step = 2300 (0.136 sec)\n",
            "INFO:tensorflow:global_step/sec: 697.086\n",
            "INFO:tensorflow:loss = 42.369232, step = 2400 (0.143 sec)\n",
            "WARNING:tensorflow:It seems that global step (tf.train.get_global_step) has not been increased. Current value (could be stable): 2447 vs previous value: 2447. You could increase the global step by passing tf.train.get_global_step() to Optimizer.apply_gradients or Optimizer.minimize.\n",
            "INFO:tensorflow:Saving checkpoints for 2500 into /tmp/tmpyd6ug86o/model.ckpt.\n",
            "INFO:tensorflow:Loss for final step: 38.521713.\n"
          ],
          "name": "stdout"
        },
        {
          "output_type": "execute_result",
          "data": {
            "text/plain": [
              "<tensorflow_estimator.python.estimator.canned.linear.LinearRegressorV2 at 0x7f510ee6a908>"
            ]
          },
          "metadata": {
            "tags": []
          },
          "execution_count": 6
        }
      ]
    },
    {
      "cell_type": "code",
      "metadata": {
        "id": "oTdFTDLj-2NA",
        "colab_type": "code",
        "outputId": "aaa2e8ce-daa2-4774-a356-875c26bce3dc",
        "colab": {
          "base_uri": "https://localhost:8080/",
          "height": 306
        }
      },
      "source": [
        "ev_res = model.evaluate(input_fn = lambda: df_to_dataset(test,shuffle_and_repeat=False))"
      ],
      "execution_count": 0,
      "outputs": [
        {
          "output_type": "stream",
          "text": [
            "INFO:tensorflow:Calling model_fn.\n",
            "WARNING:tensorflow:Layer linear/linear_model is casting an input tensor from dtype float64 to the layer's dtype of float32, which is new behavior in TensorFlow 2.  The layer has dtype float32 because it's dtype defaults to floatx.\n",
            "\n",
            "If you intended to run this layer in float32, you can safely ignore this warning. If in doubt, this warning is likely only an issue if you are porting a TensorFlow 1.X model to TensorFlow 2.\n",
            "\n",
            "To change all layers to have dtype float64 by default, call `tf.keras.backend.set_floatx('float64')`. To change just this layer, pass dtype='float64' to the layer constructor. If you are the author of this layer, you can disable autocasting by passing autocast=False to the base Layer constructor.\n",
            "\n",
            "INFO:tensorflow:Done calling model_fn.\n",
            "INFO:tensorflow:Starting evaluation at 2019-10-05T13:05:41Z\n",
            "INFO:tensorflow:Graph was finalized.\n",
            "INFO:tensorflow:Restoring parameters from /tmp/tmp0ggu99_d/model.ckpt-2500\n",
            "INFO:tensorflow:Running local_init_op.\n",
            "INFO:tensorflow:Done running local_init_op.\n",
            "INFO:tensorflow:Finished evaluation at 2019-10-05-13:05:42\n",
            "INFO:tensorflow:Saving dict for global step 2500: average_loss = 40.825123, global_step = 2500, label/mean = 22.574509, loss = 39.727837, prediction/mean = 23.850624\n",
            "INFO:tensorflow:Saving 'checkpoint_path' summary for global step 2500: /tmp/tmp0ggu99_d/model.ckpt-2500\n"
          ],
          "name": "stdout"
        }
      ]
    },
    {
      "cell_type": "code",
      "metadata": {
        "id": "W2zwE0QJFsrO",
        "colab_type": "code",
        "outputId": "a218af41-bbf4-4a48-de77-6a0ecbaefc80",
        "colab": {
          "base_uri": "https://localhost:8080/",
          "height": 183
        }
      },
      "source": [
        "configs = tf.estimator.RunConfig(tf_random_seed=1)\n",
        "modeldnn = tf.estimator.DNNRegressor(feature_columns = feature_columns,hidden_units=[10],config=config)"
      ],
      "execution_count": 0,
      "outputs": [
        {
          "output_type": "stream",
          "text": [
            "WARNING:tensorflow:Using temporary folder as model directory: /tmp/tmpb7p1d7ut\n",
            "INFO:tensorflow:Using config: {'_model_dir': '/tmp/tmpb7p1d7ut', '_tf_random_seed': 1, '_save_summary_steps': 100, '_save_checkpoints_steps': None, '_save_checkpoints_secs': 600, '_session_config': allow_soft_placement: true\n",
            "graph_options {\n",
            "  rewrite_options {\n",
            "    meta_optimizer_iterations: ONE\n",
            "  }\n",
            "}\n",
            ", '_keep_checkpoint_max': 5, '_keep_checkpoint_every_n_hours': 10000, '_log_step_count_steps': 100, '_train_distribute': None, '_device_fn': None, '_protocol': None, '_eval_distribute': None, '_experimental_distribute': None, '_experimental_max_worker_delay_secs': None, '_service': None, '_cluster_spec': <tensorflow.python.training.server_lib.ClusterSpec object at 0x7f2ff5b13d68>, '_task_type': 'worker', '_task_id': 0, '_global_id_in_cluster': 0, '_master': '', '_evaluation_master': '', '_is_chief': True, '_num_ps_replicas': 0, '_num_worker_replicas': 1}\n"
          ],
          "name": "stdout"
        }
      ]
    },
    {
      "cell_type": "code",
      "metadata": {
        "id": "_20c2q-2G0_S",
        "colab_type": "code",
        "outputId": "6ddffbad-83cc-40d5-91a8-62c366f323d1",
        "colab": {
          "base_uri": "https://localhost:8080/",
          "height": 1000
        }
      },
      "source": [
        "modeldnn.train(input_fn = lambda:df_to_dataset(train),steps=6000)"
      ],
      "execution_count": 0,
      "outputs": [
        {
          "output_type": "stream",
          "text": [
            "INFO:tensorflow:Calling model_fn.\n",
            "WARNING:tensorflow:Layer dnn is casting an input tensor from dtype float64 to the layer's dtype of float32, which is new behavior in TensorFlow 2.  The layer has dtype float32 because it's dtype defaults to floatx.\n",
            "\n",
            "If you intended to run this layer in float32, you can safely ignore this warning. If in doubt, this warning is likely only an issue if you are porting a TensorFlow 1.X model to TensorFlow 2.\n",
            "\n",
            "To change all layers to have dtype float64 by default, call `tf.keras.backend.set_floatx('float64')`. To change just this layer, pass dtype='float64' to the layer constructor. If you are the author of this layer, you can disable autocasting by passing autocast=False to the base Layer constructor.\n",
            "\n",
            "WARNING:tensorflow:Entity <bound method _DNNModelV2.call of <tensorflow_estimator.python.estimator.canned.dnn._DNNModelV2 object at 0x7f2ff7fcdef0>> could not be transformed and will be executed as-is. Please report this to the AutoGraph team. When filing the bug, set the verbosity to 10 (on Linux, `export AUTOGRAPH_VERBOSITY=10`) and attach the full output. Cause: module 'gast' has no attribute 'Num'\n",
            "WARNING: Entity <bound method _DNNModelV2.call of <tensorflow_estimator.python.estimator.canned.dnn._DNNModelV2 object at 0x7f2ff7fcdef0>> could not be transformed and will be executed as-is. Please report this to the AutoGraph team. When filing the bug, set the verbosity to 10 (on Linux, `export AUTOGRAPH_VERBOSITY=10`) and attach the full output. Cause: module 'gast' has no attribute 'Num'\n",
            "INFO:tensorflow:Done calling model_fn.\n",
            "INFO:tensorflow:Create CheckpointSaverHook.\n",
            "INFO:tensorflow:Graph was finalized.\n",
            "INFO:tensorflow:Running local_init_op.\n",
            "INFO:tensorflow:Done running local_init_op.\n",
            "INFO:tensorflow:Saving checkpoints for 0 into /tmp/tmpb7p1d7ut/model.ckpt.\n",
            "INFO:tensorflow:loss = 2982.5242, step = 0\n",
            "INFO:tensorflow:global_step/sec: 265.356\n",
            "INFO:tensorflow:loss = 1185.9421, step = 100 (0.384 sec)\n",
            "INFO:tensorflow:global_step/sec: 547.636\n",
            "INFO:tensorflow:loss = 836.31055, step = 200 (0.183 sec)\n",
            "INFO:tensorflow:global_step/sec: 512.323\n",
            "INFO:tensorflow:loss = 753.425, step = 300 (0.196 sec)\n",
            "INFO:tensorflow:global_step/sec: 534.846\n",
            "INFO:tensorflow:loss = 701.40576, step = 400 (0.184 sec)\n",
            "INFO:tensorflow:global_step/sec: 574.919\n",
            "INFO:tensorflow:loss = 553.8428, step = 500 (0.176 sec)\n",
            "INFO:tensorflow:global_step/sec: 523.195\n",
            "INFO:tensorflow:loss = 488.3903, step = 600 (0.189 sec)\n",
            "INFO:tensorflow:global_step/sec: 441.569\n",
            "INFO:tensorflow:loss = 548.8207, step = 700 (0.227 sec)\n",
            "INFO:tensorflow:global_step/sec: 542.639\n",
            "INFO:tensorflow:loss = 706.17053, step = 800 (0.181 sec)\n",
            "INFO:tensorflow:global_step/sec: 468.115\n",
            "INFO:tensorflow:loss = 723.5785, step = 900 (0.214 sec)\n",
            "INFO:tensorflow:global_step/sec: 466.779\n",
            "INFO:tensorflow:loss = 538.1906, step = 1000 (0.214 sec)\n",
            "INFO:tensorflow:global_step/sec: 519.149\n",
            "INFO:tensorflow:loss = 456.55087, step = 1100 (0.193 sec)\n",
            "INFO:tensorflow:global_step/sec: 550.58\n",
            "INFO:tensorflow:loss = 446.67065, step = 1200 (0.184 sec)\n",
            "INFO:tensorflow:global_step/sec: 467.615\n",
            "INFO:tensorflow:loss = 312.93845, step = 1300 (0.211 sec)\n",
            "INFO:tensorflow:global_step/sec: 510.14\n",
            "INFO:tensorflow:loss = 544.05383, step = 1400 (0.195 sec)\n",
            "INFO:tensorflow:global_step/sec: 473.725\n",
            "INFO:tensorflow:loss = 253.63132, step = 1500 (0.211 sec)\n",
            "INFO:tensorflow:global_step/sec: 408.875\n",
            "INFO:tensorflow:loss = 264.22333, step = 1600 (0.244 sec)\n",
            "INFO:tensorflow:global_step/sec: 473.79\n",
            "INFO:tensorflow:loss = 321.946, step = 1700 (0.217 sec)\n",
            "INFO:tensorflow:global_step/sec: 486.753\n",
            "INFO:tensorflow:loss = 171.94551, step = 1800 (0.205 sec)\n",
            "INFO:tensorflow:global_step/sec: 371.773\n",
            "INFO:tensorflow:loss = 155.02989, step = 1900 (0.267 sec)\n",
            "INFO:tensorflow:global_step/sec: 378.041\n",
            "INFO:tensorflow:loss = 237.86389, step = 2000 (0.262 sec)\n",
            "INFO:tensorflow:global_step/sec: 410.395\n",
            "INFO:tensorflow:loss = 249.164, step = 2100 (0.247 sec)\n",
            "INFO:tensorflow:global_step/sec: 431.791\n",
            "INFO:tensorflow:loss = 218.3645, step = 2200 (0.229 sec)\n",
            "INFO:tensorflow:global_step/sec: 507.272\n",
            "INFO:tensorflow:loss = 158.31783, step = 2300 (0.198 sec)\n",
            "INFO:tensorflow:global_step/sec: 538.877\n",
            "INFO:tensorflow:loss = 259.73425, step = 2400 (0.183 sec)\n",
            "INFO:tensorflow:global_step/sec: 523.463\n",
            "INFO:tensorflow:loss = 133.19519, step = 2500 (0.195 sec)\n",
            "INFO:tensorflow:global_step/sec: 466.38\n",
            "INFO:tensorflow:loss = 315.55084, step = 2600 (0.217 sec)\n",
            "INFO:tensorflow:global_step/sec: 503.857\n",
            "INFO:tensorflow:loss = 181.48505, step = 2700 (0.194 sec)\n",
            "INFO:tensorflow:global_step/sec: 466.174\n",
            "INFO:tensorflow:loss = 217.80887, step = 2800 (0.220 sec)\n",
            "INFO:tensorflow:global_step/sec: 504.687\n",
            "INFO:tensorflow:loss = 228.21841, step = 2900 (0.194 sec)\n",
            "INFO:tensorflow:global_step/sec: 371.403\n",
            "INFO:tensorflow:loss = 189.5744, step = 3000 (0.266 sec)\n",
            "INFO:tensorflow:global_step/sec: 512.664\n",
            "INFO:tensorflow:loss = 173.88196, step = 3100 (0.200 sec)\n",
            "INFO:tensorflow:global_step/sec: 387.804\n",
            "INFO:tensorflow:loss = 83.39767, step = 3200 (0.259 sec)\n",
            "INFO:tensorflow:global_step/sec: 442.451\n",
            "INFO:tensorflow:loss = 104.22539, step = 3300 (0.224 sec)\n",
            "INFO:tensorflow:global_step/sec: 407.946\n",
            "INFO:tensorflow:loss = 143.11758, step = 3400 (0.251 sec)\n",
            "INFO:tensorflow:global_step/sec: 371.915\n",
            "INFO:tensorflow:loss = 137.16675, step = 3500 (0.266 sec)\n",
            "INFO:tensorflow:global_step/sec: 299.754\n",
            "INFO:tensorflow:loss = 142.27829, step = 3600 (0.328 sec)\n",
            "INFO:tensorflow:global_step/sec: 379.288\n",
            "INFO:tensorflow:loss = 90.220825, step = 3700 (0.273 sec)\n",
            "INFO:tensorflow:global_step/sec: 404.68\n",
            "INFO:tensorflow:loss = 106.89674, step = 3800 (0.240 sec)\n",
            "INFO:tensorflow:global_step/sec: 418.578\n",
            "INFO:tensorflow:loss = 164.36761, step = 3900 (0.238 sec)\n",
            "INFO:tensorflow:global_step/sec: 412.048\n",
            "INFO:tensorflow:loss = 142.61203, step = 4000 (0.241 sec)\n",
            "INFO:tensorflow:global_step/sec: 416.797\n",
            "INFO:tensorflow:loss = 130.08096, step = 4100 (0.245 sec)\n",
            "INFO:tensorflow:global_step/sec: 384.897\n",
            "INFO:tensorflow:loss = 98.07355, step = 4200 (0.258 sec)\n",
            "INFO:tensorflow:global_step/sec: 497.847\n",
            "INFO:tensorflow:loss = 138.3884, step = 4300 (0.196 sec)\n",
            "INFO:tensorflow:global_step/sec: 442.682\n",
            "INFO:tensorflow:loss = 117.77255, step = 4400 (0.231 sec)\n",
            "INFO:tensorflow:global_step/sec: 365.843\n",
            "INFO:tensorflow:loss = 194.65344, step = 4500 (0.268 sec)\n",
            "INFO:tensorflow:global_step/sec: 332.531\n",
            "INFO:tensorflow:loss = 81.72671, step = 4600 (0.308 sec)\n",
            "INFO:tensorflow:global_step/sec: 252.955\n",
            "INFO:tensorflow:loss = 82.45231, step = 4700 (0.390 sec)\n",
            "INFO:tensorflow:global_step/sec: 397.09\n",
            "INFO:tensorflow:loss = 95.68374, step = 4800 (0.251 sec)\n",
            "INFO:tensorflow:global_step/sec: 390.241\n",
            "INFO:tensorflow:loss = 79.48686, step = 4900 (0.260 sec)\n",
            "INFO:tensorflow:global_step/sec: 366.085\n",
            "INFO:tensorflow:loss = 113.30187, step = 5000 (0.270 sec)\n",
            "INFO:tensorflow:global_step/sec: 406.954\n",
            "INFO:tensorflow:loss = 122.60197, step = 5100 (0.246 sec)\n",
            "INFO:tensorflow:global_step/sec: 463.81\n",
            "INFO:tensorflow:loss = 65.92301, step = 5200 (0.217 sec)\n",
            "INFO:tensorflow:global_step/sec: 472.372\n",
            "INFO:tensorflow:loss = 193.04042, step = 5300 (0.212 sec)\n",
            "INFO:tensorflow:global_step/sec: 440.598\n",
            "INFO:tensorflow:loss = 105.46772, step = 5400 (0.229 sec)\n",
            "INFO:tensorflow:global_step/sec: 355.5\n",
            "INFO:tensorflow:loss = 131.6408, step = 5500 (0.279 sec)\n",
            "INFO:tensorflow:global_step/sec: 472.732\n",
            "INFO:tensorflow:loss = 117.96462, step = 5600 (0.213 sec)\n",
            "INFO:tensorflow:global_step/sec: 353.648\n",
            "INFO:tensorflow:loss = 78.339966, step = 5700 (0.277 sec)\n",
            "INFO:tensorflow:global_step/sec: 374.557\n",
            "INFO:tensorflow:loss = 127.60219, step = 5800 (0.273 sec)\n",
            "INFO:tensorflow:global_step/sec: 367.67\n",
            "INFO:tensorflow:loss = 68.56416, step = 5900 (0.267 sec)\n",
            "INFO:tensorflow:Saving checkpoints for 6000 into /tmp/tmpb7p1d7ut/model.ckpt.\n",
            "INFO:tensorflow:Loss for final step: 78.41412.\n"
          ],
          "name": "stdout"
        },
        {
          "output_type": "execute_result",
          "data": {
            "text/plain": [
              "<tensorflow_estimator.python.estimator.canned.dnn.DNNRegressorV2 at 0x7f2ff5b13518>"
            ]
          },
          "metadata": {
            "tags": []
          },
          "execution_count": 73
        }
      ]
    },
    {
      "cell_type": "code",
      "metadata": {
        "id": "tN8n3Y6zHQii",
        "colab_type": "code",
        "outputId": "aec30cf5-4609-4cb8-c370-a81ddcf549b4",
        "colab": {
          "base_uri": "https://localhost:8080/",
          "height": 365
        }
      },
      "source": [
        "eval_dnnmetrics = modeldnn.evaluate(input_fn = lambda: df_to_dataset(train,shuffle_and_repeat=False))"
      ],
      "execution_count": 0,
      "outputs": [
        {
          "output_type": "stream",
          "text": [
            "INFO:tensorflow:Calling model_fn.\n",
            "WARNING:tensorflow:Layer dnn is casting an input tensor from dtype float64 to the layer's dtype of float32, which is new behavior in TensorFlow 2.  The layer has dtype float32 because it's dtype defaults to floatx.\n",
            "\n",
            "If you intended to run this layer in float32, you can safely ignore this warning. If in doubt, this warning is likely only an issue if you are porting a TensorFlow 1.X model to TensorFlow 2.\n",
            "\n",
            "To change all layers to have dtype float64 by default, call `tf.keras.backend.set_floatx('float64')`. To change just this layer, pass dtype='float64' to the layer constructor. If you are the author of this layer, you can disable autocasting by passing autocast=False to the base Layer constructor.\n",
            "\n",
            "WARNING:tensorflow:Entity <bound method _DNNModelV2.call of <tensorflow_estimator.python.estimator.canned.dnn._DNNModelV2 object at 0x7f2ff8b4a588>> could not be transformed and will be executed as-is. Please report this to the AutoGraph team. When filing the bug, set the verbosity to 10 (on Linux, `export AUTOGRAPH_VERBOSITY=10`) and attach the full output. Cause: module 'gast' has no attribute 'Num'\n",
            "WARNING: Entity <bound method _DNNModelV2.call of <tensorflow_estimator.python.estimator.canned.dnn._DNNModelV2 object at 0x7f2ff8b4a588>> could not be transformed and will be executed as-is. Please report this to the AutoGraph team. When filing the bug, set the verbosity to 10 (on Linux, `export AUTOGRAPH_VERBOSITY=10`) and attach the full output. Cause: module 'gast' has no attribute 'Num'\n",
            "INFO:tensorflow:Done calling model_fn.\n",
            "INFO:tensorflow:Starting evaluation at 2019-10-05T13:39:00Z\n",
            "INFO:tensorflow:Graph was finalized.\n",
            "INFO:tensorflow:Restoring parameters from /tmp/tmpb7p1d7ut/model.ckpt-6000\n",
            "INFO:tensorflow:Running local_init_op.\n",
            "INFO:tensorflow:Done running local_init_op.\n",
            "INFO:tensorflow:Finished evaluation at 2019-10-05-13:39:00\n",
            "INFO:tensorflow:Saving dict for global step 6000: average_loss = 100.41306, global_step = 6000, label/mean = 22.522278, loss = 99.55997, prediction/mean = 22.992477\n",
            "INFO:tensorflow:Saving 'checkpoint_path' summary for global step 6000: /tmp/tmpb7p1d7ut/model.ckpt-6000\n"
          ],
          "name": "stdout"
        }
      ]
    },
    {
      "cell_type": "code",
      "metadata": {
        "id": "Ux95WmbAJVuR",
        "colab_type": "code",
        "outputId": "a586fe4f-cf03-41c1-da98-ab9c9513a2b7",
        "colab": {
          "base_uri": "https://localhost:8080/",
          "height": 365
        }
      },
      "source": [
        "eval_dnnmetrics_test = modeldnn.evaluate(input_fn = lambda: df_to_dataset(test,shuffle_and_repeat=False))"
      ],
      "execution_count": 0,
      "outputs": [
        {
          "output_type": "stream",
          "text": [
            "INFO:tensorflow:Calling model_fn.\n",
            "WARNING:tensorflow:Layer dnn is casting an input tensor from dtype float64 to the layer's dtype of float32, which is new behavior in TensorFlow 2.  The layer has dtype float32 because it's dtype defaults to floatx.\n",
            "\n",
            "If you intended to run this layer in float32, you can safely ignore this warning. If in doubt, this warning is likely only an issue if you are porting a TensorFlow 1.X model to TensorFlow 2.\n",
            "\n",
            "To change all layers to have dtype float64 by default, call `tf.keras.backend.set_floatx('float64')`. To change just this layer, pass dtype='float64' to the layer constructor. If you are the author of this layer, you can disable autocasting by passing autocast=False to the base Layer constructor.\n",
            "\n",
            "WARNING:tensorflow:Entity <bound method _DNNModelV2.call of <tensorflow_estimator.python.estimator.canned.dnn._DNNModelV2 object at 0x7f2ff9328978>> could not be transformed and will be executed as-is. Please report this to the AutoGraph team. When filing the bug, set the verbosity to 10 (on Linux, `export AUTOGRAPH_VERBOSITY=10`) and attach the full output. Cause: module 'gast' has no attribute 'Num'\n",
            "WARNING: Entity <bound method _DNNModelV2.call of <tensorflow_estimator.python.estimator.canned.dnn._DNNModelV2 object at 0x7f2ff9328978>> could not be transformed and will be executed as-is. Please report this to the AutoGraph team. When filing the bug, set the verbosity to 10 (on Linux, `export AUTOGRAPH_VERBOSITY=10`) and attach the full output. Cause: module 'gast' has no attribute 'Num'\n",
            "INFO:tensorflow:Done calling model_fn.\n",
            "INFO:tensorflow:Starting evaluation at 2019-10-05T13:39:31Z\n",
            "INFO:tensorflow:Graph was finalized.\n",
            "INFO:tensorflow:Restoring parameters from /tmp/tmpb7p1d7ut/model.ckpt-6000\n",
            "INFO:tensorflow:Running local_init_op.\n",
            "INFO:tensorflow:Done running local_init_op.\n",
            "INFO:tensorflow:Finished evaluation at 2019-10-05-13:39:31\n",
            "INFO:tensorflow:Saving dict for global step 6000: average_loss = 123.5524, global_step = 6000, label/mean = 22.574509, loss = 125.87698, prediction/mean = 20.107664\n",
            "INFO:tensorflow:Saving 'checkpoint_path' summary for global step 6000: /tmp/tmpb7p1d7ut/model.ckpt-6000\n"
          ],
          "name": "stdout"
        }
      ]
    },
    {
      "cell_type": "code",
      "metadata": {
        "id": "S_DVA7YNKGiT",
        "colab_type": "code",
        "outputId": "25559419-7adb-486a-e8e9-e7f9cc9b25d0",
        "colab": {
          "base_uri": "https://localhost:8080/",
          "height": 658
        }
      },
      "source": [
        "configs = tf.estimator.RunConfig(tf_random_seed=1)\n",
        "\n",
        "model = tf.estimator.BoostedTreesRegressor(feature_columns , n_batches_per_layer =1,center_bias =True , config=configs)\n",
        "model.train(input_fn = lambda : df_to_dataset(train),max_steps=50)"
      ],
      "execution_count": 7,
      "outputs": [
        {
          "output_type": "stream",
          "text": [
            "WARNING:tensorflow:Using temporary folder as model directory: /tmp/tmpfnktznb9\n",
            "INFO:tensorflow:Using config: {'_model_dir': '/tmp/tmpfnktznb9', '_tf_random_seed': 1, '_save_summary_steps': 100, '_save_checkpoints_steps': None, '_save_checkpoints_secs': 600, '_session_config': allow_soft_placement: true\n",
            "graph_options {\n",
            "  rewrite_options {\n",
            "    meta_optimizer_iterations: ONE\n",
            "  }\n",
            "}\n",
            ", '_keep_checkpoint_max': 5, '_keep_checkpoint_every_n_hours': 10000, '_log_step_count_steps': 100, '_train_distribute': None, '_device_fn': None, '_protocol': None, '_eval_distribute': None, '_experimental_distribute': None, '_experimental_max_worker_delay_secs': None, '_service': None, '_cluster_spec': <tensorflow.python.training.server_lib.ClusterSpec object at 0x7f50edd491d0>, '_task_type': 'worker', '_task_id': 0, '_global_id_in_cluster': 0, '_master': '', '_evaluation_master': '', '_is_chief': True, '_num_ps_replicas': 0, '_num_worker_replicas': 1}\n",
            "INFO:tensorflow:Calling model_fn.\n",
            "WARNING:tensorflow:From /usr/local/lib/python3.6/dist-packages/tensorflow_core/python/feature_column/feature_column.py:2158: NumericColumn._transform_feature (from tensorflow.python.feature_column.feature_column_v2) is deprecated and will be removed in a future version.\n",
            "Instructions for updating:\n",
            "The old _FeatureColumn APIs are being deprecated. Please use the new FeatureColumn APIs instead.\n",
            "INFO:tensorflow:Done calling model_fn.\n",
            "INFO:tensorflow:Create CheckpointSaverHook.\n",
            "WARNING:tensorflow:Issue encountered when serializing resources.\n",
            "Type is unsupported, or the types of the items don't match field type in CollectionDef. Note this is a warning and probably safe to ignore.\n",
            "'_Resource' object has no attribute 'name'\n",
            "INFO:tensorflow:Graph was finalized.\n",
            "INFO:tensorflow:Running local_init_op.\n",
            "INFO:tensorflow:Done running local_init_op.\n",
            "WARNING:tensorflow:Issue encountered when serializing resources.\n",
            "Type is unsupported, or the types of the items don't match field type in CollectionDef. Note this is a warning and probably safe to ignore.\n",
            "'_Resource' object has no attribute 'name'\n",
            "INFO:tensorflow:Saving checkpoints for 0 into /tmp/tmpfnktznb9/model.ckpt.\n",
            "WARNING:tensorflow:Issue encountered when serializing resources.\n",
            "Type is unsupported, or the types of the items don't match field type in CollectionDef. Note this is a warning and probably safe to ignore.\n",
            "'_Resource' object has no attribute 'name'\n",
            "INFO:tensorflow:loss = 531.28845, step = 0\n",
            "WARNING:tensorflow:It seems that global step (tf.train.get_global_step) has not been increased. Current value (could be stable): 0 vs previous value: 0. You could increase the global step by passing tf.train.get_global_step() to Optimizer.apply_gradients or Optimizer.minimize.\n",
            "INFO:tensorflow:Saving checkpoints for 50 into /tmp/tmpfnktznb9/model.ckpt.\n",
            "WARNING:tensorflow:Issue encountered when serializing resources.\n",
            "Type is unsupported, or the types of the items don't match field type in CollectionDef. Note this is a warning and probably safe to ignore.\n",
            "'_Resource' object has no attribute 'name'\n",
            "INFO:tensorflow:Loss for final step: 23.755983.\n"
          ],
          "name": "stdout"
        },
        {
          "output_type": "execute_result",
          "data": {
            "text/plain": [
              "<tensorflow_estimator.python.estimator.canned.boosted_trees.BoostedTreesRegressor at 0x7f510ee6a5f8>"
            ]
          },
          "metadata": {
            "tags": []
          },
          "execution_count": 7
        }
      ]
    },
    {
      "cell_type": "code",
      "metadata": {
        "id": "H8mvUgRhO1he",
        "colab_type": "code",
        "outputId": "e5712691-20ea-408e-972f-c4cff08e3624",
        "colab": {
          "base_uri": "https://localhost:8080/",
          "height": 247
        }
      },
      "source": [
        "bt_eval = model.evaluate(input_fn = lambda: df_to_dataset(test,shuffle_and_repeat=False))"
      ],
      "execution_count": 8,
      "outputs": [
        {
          "output_type": "stream",
          "text": [
            "INFO:tensorflow:Calling model_fn.\n",
            "INFO:tensorflow:Done calling model_fn.\n",
            "INFO:tensorflow:Starting evaluation at 2019-10-05T14:11:17Z\n",
            "INFO:tensorflow:Graph was finalized.\n",
            "INFO:tensorflow:Restoring parameters from /tmp/tmpfnktznb9/model.ckpt-50\n",
            "INFO:tensorflow:Running local_init_op.\n",
            "INFO:tensorflow:Done running local_init_op.\n",
            "INFO:tensorflow:Finished evaluation at 2019-10-05-14:11:17\n",
            "INFO:tensorflow:Saving dict for global step 50: average_loss = 22.07418, global_step = 50, label/mean = 22.574509, loss = 22.073696, prediction/mean = 22.607578\n",
            "WARNING:tensorflow:Issue encountered when serializing resources.\n",
            "Type is unsupported, or the types of the items don't match field type in CollectionDef. Note this is a warning and probably safe to ignore.\n",
            "'_Resource' object has no attribute 'name'\n",
            "INFO:tensorflow:Saving 'checkpoint_path' summary for global step 50: /tmp/tmpfnktznb9/model.ckpt-50\n"
          ],
          "name": "stdout"
        }
      ]
    },
    {
      "cell_type": "code",
      "metadata": {
        "id": "Uwle3kSIQu7r",
        "colab_type": "code",
        "colab": {
          "base_uri": "https://localhost:8080/",
          "height": 267
        },
        "outputId": "31ca153a-4167-4cd5-b2e6-68eecaa69d13"
      },
      "source": [
        "pred_dicts = list(model.experimental_predict_with_explanations(lambda: df_to_dataset(test, False, 32)))"
      ],
      "execution_count": 9,
      "outputs": [
        {
          "output_type": "stream",
          "text": [
            "INFO:tensorflow:Using config: {'_model_dir': '/tmp/tmpfnktznb9', '_tf_random_seed': 1, '_save_summary_steps': 100, '_save_checkpoints_steps': None, '_save_checkpoints_secs': 600, '_session_config': allow_soft_placement: true\n",
            "graph_options {\n",
            "  rewrite_options {\n",
            "    meta_optimizer_iterations: ONE\n",
            "  }\n",
            "}\n",
            ", '_keep_checkpoint_max': 5, '_keep_checkpoint_every_n_hours': 10000, '_log_step_count_steps': 100, '_train_distribute': None, '_device_fn': None, '_protocol': None, '_eval_distribute': None, '_experimental_distribute': None, '_experimental_max_worker_delay_secs': None, '_service': None, '_cluster_spec': <tensorflow.python.training.server_lib.ClusterSpec object at 0x7f50efbe9ef0>, '_task_type': 'worker', '_task_id': 0, '_global_id_in_cluster': 0, '_master': '', '_evaluation_master': '', '_is_chief': True, '_num_ps_replicas': 0, '_num_worker_replicas': 1}\n",
            "INFO:tensorflow:Calling model_fn.\n",
            "INFO:tensorflow:Done calling model_fn.\n",
            "INFO:tensorflow:Graph was finalized.\n",
            "INFO:tensorflow:Restoring parameters from /tmp/tmpfnktznb9/model.ckpt-50\n",
            "INFO:tensorflow:Running local_init_op.\n",
            "INFO:tensorflow:Done running local_init_op.\n"
          ],
          "name": "stdout"
        }
      ]
    },
    {
      "cell_type": "code",
      "metadata": {
        "id": "DkcddWFjQ5jm",
        "colab_type": "code",
        "colab": {
          "base_uri": "https://localhost:8080/",
          "height": 437
        },
        "outputId": "3f97847a-da1b-4333-d584-1104dc9dfe47"
      },
      "source": [
        "# Create DFC Pandas dataframe.\n",
        "predictions = pd.Series([pred['predictions'][0] for pred in pred_dicts])\n",
        "df_dfc = pd.DataFrame([pred['dfc'] for pred in pred_dicts])\n",
        "df_dfc.describe().T"
      ],
      "execution_count": 10,
      "outputs": [
        {
          "output_type": "execute_result",
          "data": {
            "text/html": [
              "<div>\n",
              "<style scoped>\n",
              "    .dataframe tbody tr th:only-of-type {\n",
              "        vertical-align: middle;\n",
              "    }\n",
              "\n",
              "    .dataframe tbody tr th {\n",
              "        vertical-align: top;\n",
              "    }\n",
              "\n",
              "    .dataframe thead th {\n",
              "        text-align: right;\n",
              "    }\n",
              "</style>\n",
              "<table border=\"1\" class=\"dataframe\">\n",
              "  <thead>\n",
              "    <tr style=\"text-align: right;\">\n",
              "      <th></th>\n",
              "      <th>count</th>\n",
              "      <th>mean</th>\n",
              "      <th>std</th>\n",
              "      <th>min</th>\n",
              "      <th>25%</th>\n",
              "      <th>50%</th>\n",
              "      <th>75%</th>\n",
              "      <th>max</th>\n",
              "    </tr>\n",
              "  </thead>\n",
              "  <tbody>\n",
              "    <tr>\n",
              "      <th>INDUS</th>\n",
              "      <td>102.0</td>\n",
              "      <td>0.139739</td>\n",
              "      <td>0.897014</td>\n",
              "      <td>-0.996441</td>\n",
              "      <td>-0.407400</td>\n",
              "      <td>-0.266554</td>\n",
              "      <td>0.029665</td>\n",
              "      <td>2.769520</td>\n",
              "    </tr>\n",
              "    <tr>\n",
              "      <th>AGE</th>\n",
              "      <td>102.0</td>\n",
              "      <td>0.217938</td>\n",
              "      <td>1.947907</td>\n",
              "      <td>-4.129795</td>\n",
              "      <td>-1.186794</td>\n",
              "      <td>-0.212296</td>\n",
              "      <td>1.630661</td>\n",
              "      <td>5.430849</td>\n",
              "    </tr>\n",
              "    <tr>\n",
              "      <th>RM</th>\n",
              "      <td>102.0</td>\n",
              "      <td>-0.099130</td>\n",
              "      <td>1.775535</td>\n",
              "      <td>-1.526121</td>\n",
              "      <td>-1.004610</td>\n",
              "      <td>-0.849075</td>\n",
              "      <td>0.074173</td>\n",
              "      <td>6.189215</td>\n",
              "    </tr>\n",
              "    <tr>\n",
              "      <th>CRIM</th>\n",
              "      <td>102.0</td>\n",
              "      <td>-0.265565</td>\n",
              "      <td>0.648779</td>\n",
              "      <td>-2.593834</td>\n",
              "      <td>-0.419735</td>\n",
              "      <td>-0.104004</td>\n",
              "      <td>0.163083</td>\n",
              "      <td>2.335884</td>\n",
              "    </tr>\n",
              "    <tr>\n",
              "      <th>TAX</th>\n",
              "      <td>102.0</td>\n",
              "      <td>-0.049770</td>\n",
              "      <td>0.634513</td>\n",
              "      <td>-0.920506</td>\n",
              "      <td>-0.003080</td>\n",
              "      <td>-0.003080</td>\n",
              "      <td>-0.003080</td>\n",
              "      <td>2.519119</td>\n",
              "    </tr>\n",
              "    <tr>\n",
              "      <th>B</th>\n",
              "      <td>102.0</td>\n",
              "      <td>-0.455132</td>\n",
              "      <td>0.709151</td>\n",
              "      <td>-3.022982</td>\n",
              "      <td>-0.658524</td>\n",
              "      <td>-0.341938</td>\n",
              "      <td>-0.114628</td>\n",
              "      <td>1.126245</td>\n",
              "    </tr>\n",
              "    <tr>\n",
              "      <th>DIS</th>\n",
              "      <td>102.0</td>\n",
              "      <td>-0.077520</td>\n",
              "      <td>1.824816</td>\n",
              "      <td>-2.568922</td>\n",
              "      <td>-1.139078</td>\n",
              "      <td>-0.330250</td>\n",
              "      <td>0.089680</td>\n",
              "      <td>8.886751</td>\n",
              "    </tr>\n",
              "    <tr>\n",
              "      <th>CHAS</th>\n",
              "      <td>102.0</td>\n",
              "      <td>-0.112783</td>\n",
              "      <td>0.804965</td>\n",
              "      <td>-0.539326</td>\n",
              "      <td>-0.269123</td>\n",
              "      <td>-0.230833</td>\n",
              "      <td>-0.230833</td>\n",
              "      <td>4.468229</td>\n",
              "    </tr>\n",
              "    <tr>\n",
              "      <th>LSTAT</th>\n",
              "      <td>102.0</td>\n",
              "      <td>0.094689</td>\n",
              "      <td>1.843813</td>\n",
              "      <td>-2.312346</td>\n",
              "      <td>-1.041912</td>\n",
              "      <td>-0.673365</td>\n",
              "      <td>0.371132</td>\n",
              "      <td>3.780775</td>\n",
              "    </tr>\n",
              "    <tr>\n",
              "      <th>NOX</th>\n",
              "      <td>102.0</td>\n",
              "      <td>-0.004629</td>\n",
              "      <td>0.520999</td>\n",
              "      <td>-1.659901</td>\n",
              "      <td>-0.083914</td>\n",
              "      <td>0.127197</td>\n",
              "      <td>0.161048</td>\n",
              "      <td>0.904469</td>\n",
              "    </tr>\n",
              "    <tr>\n",
              "      <th>PTRATIO</th>\n",
              "      <td>102.0</td>\n",
              "      <td>0.183712</td>\n",
              "      <td>0.682007</td>\n",
              "      <td>-0.568598</td>\n",
              "      <td>-0.394007</td>\n",
              "      <td>-0.174591</td>\n",
              "      <td>1.069905</td>\n",
              "      <td>1.398870</td>\n",
              "    </tr>\n",
              "    <tr>\n",
              "      <th>RAD</th>\n",
              "      <td>102.0</td>\n",
              "      <td>0.000000</td>\n",
              "      <td>0.000000</td>\n",
              "      <td>0.000000</td>\n",
              "      <td>0.000000</td>\n",
              "      <td>0.000000</td>\n",
              "      <td>0.000000</td>\n",
              "      <td>0.000000</td>\n",
              "    </tr>\n",
              "    <tr>\n",
              "      <th>ZN</th>\n",
              "      <td>102.0</td>\n",
              "      <td>0.017280</td>\n",
              "      <td>0.104996</td>\n",
              "      <td>-0.071930</td>\n",
              "      <td>0.000000</td>\n",
              "      <td>0.000000</td>\n",
              "      <td>0.000000</td>\n",
              "      <td>0.425634</td>\n",
              "    </tr>\n",
              "  </tbody>\n",
              "</table>\n",
              "</div>"
            ],
            "text/plain": [
              "         count      mean       std  ...       50%       75%       max\n",
              "INDUS    102.0  0.139739  0.897014  ... -0.266554  0.029665  2.769520\n",
              "AGE      102.0  0.217938  1.947907  ... -0.212296  1.630661  5.430849\n",
              "RM       102.0 -0.099130  1.775535  ... -0.849075  0.074173  6.189215\n",
              "CRIM     102.0 -0.265565  0.648779  ... -0.104004  0.163083  2.335884\n",
              "TAX      102.0 -0.049770  0.634513  ... -0.003080 -0.003080  2.519119\n",
              "B        102.0 -0.455132  0.709151  ... -0.341938 -0.114628  1.126245\n",
              "DIS      102.0 -0.077520  1.824816  ... -0.330250  0.089680  8.886751\n",
              "CHAS     102.0 -0.112783  0.804965  ... -0.230833 -0.230833  4.468229\n",
              "LSTAT    102.0  0.094689  1.843813  ... -0.673365  0.371132  3.780775\n",
              "NOX      102.0 -0.004629  0.520999  ...  0.127197  0.161048  0.904469\n",
              "PTRATIO  102.0  0.183712  0.682007  ... -0.174591  1.069905  1.398870\n",
              "RAD      102.0  0.000000  0.000000  ...  0.000000  0.000000  0.000000\n",
              "ZN       102.0  0.017280  0.104996  ...  0.000000  0.000000  0.425634\n",
              "\n",
              "[13 rows x 8 columns]"
            ]
          },
          "metadata": {
            "tags": []
          },
          "execution_count": 10
        }
      ]
    },
    {
      "cell_type": "code",
      "metadata": {
        "id": "v-M_h98CRDWu",
        "colab_type": "code",
        "colab": {}
      },
      "source": [
        "# Sum of DFCs + bias == probabality.\n",
        "bias = pred_dicts[0]['bias']\n",
        "dfc_pred = df_dfc.sum(axis=1) + bias\n",
        "np.testing.assert_almost_equal(dfc_pred.values,\n",
        "                               predictions.values)"
      ],
      "execution_count": 0,
      "outputs": []
    },
    {
      "cell_type": "code",
      "metadata": {
        "id": "AFS6nqa2RKFB",
        "colab_type": "code",
        "colab": {}
      },
      "source": [
        "# Boilerplate code for plotting :)\n",
        "def _get_color(value):\n",
        "    \"\"\"To make positive DFCs plot green, negative DFCs plot red.\"\"\"\n",
        "    green, red = sns.color_palette()[2:4]\n",
        "    if value >= 0: return green\n",
        "    return red\n",
        "\n",
        "def _add_feature_values(feature_values, ax):\n",
        "    \"\"\"Display feature's values on left of plot.\"\"\"\n",
        "    x_coord = ax.get_xlim()[0]\n",
        "    OFFSET = 0.15\n",
        "    for y_coord, (feat_name, feat_val) in enumerate(feature_values.items()):\n",
        "        t = plt.text(x_coord, y_coord - OFFSET, '{}'.format(feat_val), size=12)\n",
        "        t.set_bbox(dict(facecolor='white', alpha=0.5))\n",
        "    from matplotlib.font_manager import FontProperties\n",
        "    font = FontProperties()\n",
        "    font.set_weight('bold')\n",
        "    t = plt.text(x_coord, y_coord + 1 - OFFSET, 'feature\\nvalue',\n",
        "    fontproperties=font, size=12)\n",
        "\n",
        "def plot_example(example):\n",
        "  TOP_N = 8 # View top 8 features.\n",
        "  sorted_ix = example.abs().sort_values()[-TOP_N:].index  # Sort by magnitude.\n",
        "  example = example[sorted_ix]\n",
        "  colors = example.map(_get_color).tolist()\n",
        "  ax = example.to_frame().plot(kind='barh',\n",
        "                          color=[colors],\n",
        "                          legend=None,\n",
        "                          alpha=0.75,\n",
        "                          figsize=(10,6))\n",
        "  ax.grid(False, axis='y')\n",
        "  ax.set_yticklabels(ax.get_yticklabels(), size=14)\n",
        "\n",
        "  # Add feature values.\n",
        "  _add_feature_values(test.iloc[ID][sorted_ix], ax)\n",
        "  return ax"
      ],
      "execution_count": 0,
      "outputs": []
    },
    {
      "cell_type": "code",
      "metadata": {
        "id": "oIJ3b8lyRWv7",
        "colab_type": "code",
        "colab": {
          "base_uri": "https://localhost:8080/",
          "height": 431
        },
        "outputId": "037236ec-e415-4a02-d3c7-a5292bc36932"
      },
      "source": [
        "# Plot results.\n",
        "ID = 10\n",
        "example = df_dfc.iloc[ID]  # Choose ith example from evaluation set.\n",
        "TOP_N = 8  # View top 8 features.\n",
        "sorted_ix = example.abs().sort_values()[-TOP_N:].index\n",
        "ax = plot_example(example)\n",
        "ax.set_title('Feature contributions for example {}\\n pred: {:1.2f};'.format(ID, predictions[ID]))\n",
        "ax.set_xlabel('Contribution to prediction', size=14)\n",
        "plt.show()"
      ],
      "execution_count": 13,
      "outputs": [
        {
          "output_type": "display_data",
          "data": {
            "image/png": "[encoded data removed]",
            "text/plain": [
              "<Figure size 720x432 with 1 Axes>"
            ]
          },
          "metadata": {
            "tags": []
          }
        }
      ]
    },
    {
      "cell_type": "code",
      "metadata": {
        "id": "MRKqSL7WRffr",
        "colab_type": "code",
        "colab": {
          "base_uri": "https://localhost:8080/",
          "height": 1000
        },
        "outputId": "84cbd6a9-9bb4-4132-a55a-38a836692e6d"
      },
      "source": [
        "# Create example dataframe.\n",
        "  TOP_N = 8  # View top 8 features.\n",
        "  example = df_dfc.iloc[ID]\n",
        "  ix = example.abs().sort_values()[-TOP_N:].index\n",
        "  example = example[ix]\n",
        "  example_df = example.to_frame(name='dfc')\n",
        "\n",
        "  # Add contributions of entire distribution.\n",
        "  parts=ax.violinplot([df_dfc[w] for w in ix],\n",
        "                 vert=False,\n",
        "                 showextrema=False,\n",
        "                 widths=0.7,\n",
        "                 positions=np.arange(len(ix)))\n",
        "  face_color = sns_colors[0]\n",
        "  alpha = 0.15\n",
        "  for pc in parts['bodies']:\n",
        "      pc.set_facecolor(face_color)\n",
        "      pc.set_alpha(alpha)\n",
        "\n",
        "  # Add feature values.\n",
        "  _add_feature_values(test.iloc[ID][sorted_ix], ax)\n",
        "\n",
        "  # Add local contributions.\n",
        "  ax.scatter(example,\n",
        "              np.arange(example.shape[0]),\n",
        "              color=sns.color_palette()[2],\n",
        "              s=100,\n",
        "              marker=\"s\",\n",
        "              label='contributions for example')\n",
        "\n",
        "  # Legend\n",
        "  # Proxy plot, to show violinplot dist on legend.\n",
        "  ax.plot([0,0], [1,1], label='eval set contributions\\ndistributions',\n",
        "          color=face_color, alpha=alpha, linewidth=10)\n",
        "  legend = ax.legend(loc='lower right', shadow=True, fontsize='x-large',\n",
        "                     frameon=True)\n",
        "  legend.get_frame().set_facecolor('white')\n",
        "\n",
        "  # Format plot.\n",
        "  ax.set_yticks(np.arange(example.shape[0]))\n",
        "  ax.set_yticklabels(example.index)\n",
        "  ax.grid(False, axis='y')\n",
        "  ax.set_xlabel('Contribution to prediction', size=14)"
      ],
      "execution_count": 14,
      "outputs": [
        {
          "output_type": "execute_result",
          "data": {
            "text/plain": [
              "Text(0.5, 21.200000000000003, 'Contribution to prediction')"
            ]
          },
          "metadata": {
            "tags": []
          },
          "execution_count": 14
        },
        {
          "output_type": "display_data",
          "data": {
            "image/png": "[encoded data removed]",
            "text/plain": [
              "<Figure size 432x288 with 1 Axes>"
            ]
          },
          "metadata": {
            "tags": []
          }
        }
      ]
    },
    {
      "cell_type": "code",
      "metadata": {
        "id": "GO3gY6lWRnrI",
        "colab_type": "code",
        "colab": {}
      },
      "source": [
        "# Boilerplate plotting code.\n",
        "def dist_violin_plot(df_dfc, ID):\n",
        "  # Initialize plot.\n",
        "  fig, ax = plt.subplots(1, 1, figsize=(10, 6))\n",
        "\n",
        "  # Create example dataframe.\n",
        "  TOP_N = 8  # View top 8 features.\n",
        "  example = df_dfc.iloc[ID]\n",
        "  ix = example.abs().sort_values()[-TOP_N:].index\n",
        "  example = example[ix]\n",
        "  example_df = example.to_frame(name='dfc')\n",
        "\n",
        "  # Add contributions of entire distribution.\n",
        "  parts=ax.violinplot([df_dfc[w] for w in ix],\n",
        "                 vert=False,\n",
        "                 showextrema=False,\n",
        "                 widths=0.7,\n",
        "                 positions=np.arange(len(ix)))\n",
        "  face_color = sns_colors[0]\n",
        "  alpha = 0.15\n",
        "  for pc in parts['bodies']:\n",
        "      pc.set_facecolor(face_color)\n",
        "      pc.set_alpha(alpha)\n",
        "\n",
        "  # Add feature values.\n",
        "  _add_feature_values(test.iloc[ID][sorted_ix], ax)\n",
        "\n",
        "  # Add local contributions.\n",
        "  ax.scatter(example,\n",
        "              np.arange(example.shape[0]),\n",
        "              color=sns.color_palette()[2],\n",
        "              s=100,\n",
        "              marker=\"s\",\n",
        "              label='contributions for example')\n",
        "\n",
        "  # Legend\n",
        "  # Proxy plot, to show violinplot dist on legend.\n",
        "  ax.plot([0,0], [1,1], label='eval set contributions\\ndistributions',\n",
        "          color=face_color, alpha=alpha, linewidth=10)\n",
        "  legend = ax.legend(loc='lower right', shadow=True, fontsize='x-large',\n",
        "                     frameon=True)\n",
        "  legend.get_frame().set_facecolor('white')\n",
        "\n",
        "  # Format plot.\n",
        "  ax.set_yticks(np.arange(example.shape[0]))\n",
        "  ax.set_yticklabels(example.index)\n",
        "  ax.grid(False, axis='y')\n",
        "  ax.set_xlabel('Contribution to prediction', size=14)"
      ],
      "execution_count": 0,
      "outputs": []
    },
    {
      "cell_type": "code",
      "metadata": {
        "id": "b5MmceDNSZhS",
        "colab_type": "code",
        "colab": {
          "base_uri": "https://localhost:8080/",
          "height": 423
        },
        "outputId": "b7fa733e-3330-45e6-ce10-953f75b2d59f"
      },
      "source": [
        "dist_violin_plot(df_dfc, ID)\n",
        "plt.title('Feature contributions for example {}\\n pred: {:1.2f}'.format(ID, predictions[ID]))\n",
        "plt.show()"
      ],
      "execution_count": 18,
      "outputs": [
        {
          "output_type": "display_data",
          "data": {
            "image/png": "[encoded data removed]",
            "text/plain": [
              "<Figure size 720x432 with 1 Axes>"
            ]
          },
          "metadata": {
            "tags": []
          }
        }
      ]
    },
    {
      "cell_type": "code",
      "metadata": {
        "id": "taRIVHLXShYV",
        "colab_type": "code",
        "colab": {
          "base_uri": "https://localhost:8080/",
          "height": 390
        },
        "outputId": "99f6c913-4b15-4b0e-d443-829db7de694d"
      },
      "source": [
        "importances = model.experimental_feature_importances(normalize=True)\n",
        "df_imp = pd.Series(importances)\n",
        "\n",
        "# Visualize importances.\n",
        "N = 8\n",
        "ax = (df_imp.iloc[0:N][::-1]\n",
        "    .plot(kind='barh',\n",
        "          color=sns_colors[0],\n",
        "          title='Gain feature importances',\n",
        "          figsize=(10, 6)))\n",
        "ax.grid(False, axis='y')"
      ],
      "execution_count": 19,
      "outputs": [
        {
          "output_type": "display_data",
          "data": {
            "image/png": "[encoded data removed]",
            "text/plain": [
              "<Figure size 720x432 with 1 Axes>"
            ]
          },
          "metadata": {
            "tags": []
          }
        }
      ]
    },
    {
      "cell_type": "code",
      "metadata": {
        "id": "GD70Wob-Smif",
        "colab_type": "code",
        "colab": {
          "base_uri": "https://localhost:8080/",
          "height": 283
        },
        "outputId": "e9aee3da-bfb9-410a-8a2b-86599ef1d725"
      },
      "source": [
        "FEATURE = 'LSTAT'\n",
        "feature = pd.Series(df_dfc[FEATURE].values, index=test[FEATURE].values).sort_index()\n",
        "ax = sns.regplot(feature.index.values, feature.values, lowess=True)\n",
        "ax.set_ylabel('contribution')\n",
        "ax.set_xlabel(FEATURE)\n",
        "ax.set_xlim(0, 35)\n",
        "plt.show()"
      ],
      "execution_count": 20,
      "outputs": [
        {
          "output_type": "display_data",
          "data": {
            "image/png": "[encoded data removed]",
            "text/plain": [
              "<Figure size 432x288 with 1 Axes>"
            ]
          },
          "metadata": {
            "tags": []
          }
        }
      ]
    }
  ]
}